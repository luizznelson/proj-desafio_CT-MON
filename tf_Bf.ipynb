{
  "cells": [
    {
      "cell_type": "markdown",
      "metadata": {
        "id": "4PCgY2XQrEzL"
      },
      "source": [
        "* TRABALHO FINAL: DESAFIO DE DADOS CT-MON\n",
        " - Alunos:\n",
        "    - Arthur Sabino Santos\n",
        "    - Luiz Nelson dos Santos Lima"
      ]
    },
    {
      "cell_type": "code",
      "execution_count": 29,
      "metadata": {
        "id": "TB2lje7IofgH"
      },
      "outputs": [
        {
          "name": "stdout",
          "output_type": "stream",
          "text": [
            "Requirement already satisfied: numpy in c:\\users\\luizz\\anaconda3\\lib\\site-packages (2.2.2)\n",
            "Requirement already satisfied: pandas in c:\\users\\luizz\\anaconda3\\lib\\site-packages (2.2.3)\n",
            "Requirement already satisfied: python-dateutil>=2.8.2 in c:\\users\\luizz\\anaconda3\\lib\\site-packages (from pandas) (2.8.2)\n",
            "Requirement already satisfied: pytz>=2020.1 in c:\\users\\luizz\\anaconda3\\lib\\site-packages (from pandas) (2023.3.post1)\n",
            "Requirement already satisfied: tzdata>=2022.7 in c:\\users\\luizz\\anaconda3\\lib\\site-packages (from pandas) (2023.3)\n",
            "Requirement already satisfied: six>=1.5 in c:\\users\\luizz\\anaconda3\\lib\\site-packages (from python-dateutil>=2.8.2->pandas) (1.16.0)\n",
            "Requirement already satisfied: pandas in c:\\users\\luizz\\anaconda3\\lib\\site-packages (2.2.3)\n",
            "Requirement already satisfied: numpy>=1.23.2 in c:\\users\\luizz\\anaconda3\\lib\\site-packages (from pandas) (2.2.2)\n",
            "Requirement already satisfied: python-dateutil>=2.8.2 in c:\\users\\luizz\\anaconda3\\lib\\site-packages (from pandas) (2.8.2)\n",
            "Requirement already satisfied: pytz>=2020.1 in c:\\users\\luizz\\anaconda3\\lib\\site-packages (from pandas) (2023.3.post1)\n",
            "Requirement already satisfied: tzdata>=2022.7 in c:\\users\\luizz\\anaconda3\\lib\\site-packages (from pandas) (2023.3)\n",
            "Requirement already satisfied: six>=1.5 in c:\\users\\luizz\\anaconda3\\lib\\site-packages (from python-dateutil>=2.8.2->pandas) (1.16.0)\n"
          ]
        }
      ],
      "source": [
        "# Instalação de pacotes (caso esteja em Notebook/Jupyter; não recomendado em scripts .py)\n",
        "# !pip install gdown\n",
        "!pip install --upgrade numpy pandas\n",
        "!pip install --upgrade pandas"
      ]
    },
    {
      "cell_type": "code",
      "execution_count": 30,
      "metadata": {
        "colab": {
          "base_uri": "https://localhost:8080/"
        },
        "id": "BcShd1BtPJuj",
        "outputId": "6e9470eb-61fa-4083-e64a-1be0e7ad6b74"
      },
      "outputs": [],
      "source": [
        "import zipfile\n",
        "import gdown\n",
        "from glob import glob\n",
        "import os\n",
        "import numpy as np\n",
        "from sklearn.model_selection import TimeSeriesSplit, RandomizedSearchCV\n",
        "from sklearn.preprocessing import MinMaxScaler\n",
        "from sklearn.multioutput import MultiOutputRegressor\n",
        "from sklearn.ensemble import RandomForestRegressor\n",
        "from scipy.stats import linregress\n",
        "import pandas as pd\n",
        "import json\n",
        "import csv\n",
        "import matplotlib.pyplot as plt\n",
        "import seaborn as sns\n",
        "from sklearn.metrics import mean_squared_error, mean_absolute_error, mean_absolute_percentage_error"
      ]
    },
    {
      "cell_type": "code",
      "execution_count": 31,
      "metadata": {},
      "outputs": [
        {
          "name": "stdout",
          "output_type": "stream",
          "text": [
            "[INFO] Baixando os dados...\n"
          ]
        },
        {
          "name": "stderr",
          "output_type": "stream",
          "text": [
            "Downloading...\n",
            "From (original): https://drive.google.com/uc?id=1JcR3KRQDwJyzqTbCiYF9IHRLYd0_8ITC\n",
            "From (redirected): https://drive.google.com/uc?id=1JcR3KRQDwJyzqTbCiYF9IHRLYd0_8ITC&confirm=t&uuid=4683554b-4a76-412f-b9a9-7fdd25906772\n",
            "To: d:\\UFPI\\Tópicos em Redes - Mineração de Dados\\trab_final\\final_task-project\\notebooks\\open-data.zip\n",
            "100%|██████████| 42.1M/42.1M [00:01<00:00, 31.2MB/s]\n"
          ]
        },
        {
          "data": {
            "text/plain": [
              "'open-data.zip'"
            ]
          },
          "execution_count": 31,
          "metadata": {},
          "output_type": "execute_result"
        }
      ],
      "source": [
        "# -------------------------------------------------------\n",
        "# 1. Download e Extração dos Dados\n",
        "# -------------------------------------------------------\n",
        "file_id = '1JcR3KRQDwJyzqTbCiYF9IHRLYd0_8ITC'\n",
        "url = f'https://drive.google.com/uc?id={file_id}'\n",
        "output = 'open-data.zip'\n",
        "print(\"[INFO] Baixando os dados...\")\n",
        "gdown.download(url, output, quiet=False)"
      ]
    },
    {
      "cell_type": "code",
      "execution_count": 32,
      "metadata": {},
      "outputs": [
        {
          "name": "stdout",
          "output_type": "stream",
          "text": [
            "[INFO] Extraindo os arquivos...\n",
            "[INFO] Dados extraídos com sucesso!\n"
          ]
        }
      ],
      "source": [
        "print(\"[INFO] Extraindo os arquivos...\")\n",
        "with zipfile.ZipFile(output, 'r') as zip_ref:\n",
        "    zip_ref.extractall('./')\n",
        "print(\"[INFO] Dados extraídos com sucesso!\")"
      ]
    },
    {
      "cell_type": "code",
      "execution_count": 33,
      "metadata": {},
      "outputs": [],
      "source": [
        "# -------------------------------------------------------\n",
        "# 2. Definição dos Caminhos e Inicialização\n",
        "# -------------------------------------------------------\n",
        "clientes_dash = glob(\"./Train/dash/*\")\n",
        "clientes_servidores = {'ba': 0, 'rj': 1, 'ce': 0, 'df': 1, 'es': 2, 'pi': 3}\n",
        "\n",
        "X, y = [], []"
      ]
    },
    {
      "cell_type": "code",
      "execution_count": 34,
      "metadata": {},
      "outputs": [
        {
          "name": "stdout",
          "output_type": "stream",
          "text": [
            "[INFO] Iniciando o pré-processamento dos dados...\n"
          ]
        }
      ],
      "source": [
        "# -------------------------------------------------------\n",
        "# 3. Pré-processamento dos Dados\n",
        "# -------------------------------------------------------\n",
        "print(\"[INFO] Iniciando o pré-processamento dos dados...\")\n",
        "for cliente in clientes_dash:\n",
        "    servidores = glob(os.path.join(cliente, '*'))\n",
        "    for servidor in servidores:\n",
        "        requisicoes = glob(os.path.join(servidor, '*'))\n",
        "        dash_values = []\n",
        "        for file_path in requisicoes:\n",
        "            with open(file_path, 'r') as file:\n",
        "                lines = file.readlines()\n",
        "                for line in lines[:-1]:\n",
        "                    try:\n",
        "                        data = json.loads(line)\n",
        "                        dash_values.append({\n",
        "                            'timestamp': pd.to_datetime(data['timestamp'], unit='s'),\n",
        "                            'rate': data['rate']\n",
        "                        })\n",
        "                    except (KeyError, ValueError):\n",
        "                        continue\n",
        "\n",
        "        if not dash_values:\n",
        "            continue\n",
        "\n",
        "        dash_serie = pd.DataFrame(dash_values).set_index(\"timestamp\").sort_index()\n",
        "        dash_serie_5min = dash_serie.resample('5min').agg({'rate': ['mean', 'std']}).dropna()\n",
        "        dash_serie_5min.columns = ['rate_mean', 'rate_std']\n",
        "\n",
        "        grouped = [\n",
        "            dash_serie_5min.iloc[i:i + 12].copy()\n",
        "            for i in range(0, dash_serie_5min.shape[0], 12)\n",
        "            if i + 12 <= dash_serie_5min.shape[0]\n",
        "        ]\n",
        "\n",
        "        for group in grouped:\n",
        "            group.reset_index(drop=True, inplace=True)\n",
        "\n",
        "            if group.shape[0] < 12:\n",
        "                continue\n",
        "\n",
        "            features = [\n",
        "                clientes_servidores[os.path.basename(cliente)],\n",
        "                clientes_servidores[os.path.basename(servidor)],\n",
        "                group['rate_mean'][:10].mean(),\n",
        "                group['rate_std'][:10].std(),\n",
        "                group['rate_mean'][9],\n",
        "                group['rate_std'][9],\n",
        "                group['rate_std'][:10].mean() / (group['rate_mean'][:10].mean() + 1e-5),\n",
        "                group['rate_mean'][9] - group['rate_mean'][8] if group.shape[0] >= 10 else 0,\n",
        "                linregress(range(10), group['rate_mean'][:10]).slope if len(group['rate_mean'][:10].unique()) > 1 else 0\n",
        "            ]\n",
        "            X.append(features)\n",
        "            y.append([\n",
        "                group['rate_mean'][10],\n",
        "                group['rate_std'][10],\n",
        "                group['rate_mean'][11],\n",
        "                group['rate_std'][11]\n",
        "            ])"
      ]
    },
    {
      "cell_type": "code",
      "execution_count": 35,
      "metadata": {},
      "outputs": [
        {
          "name": "stdout",
          "output_type": "stream",
          "text": [
            "[INFO] Pré-processamento concluído.\n",
            "[INFO] Total de amostras geradas: 2657\n"
          ]
        }
      ],
      "source": [
        "print(\"[INFO] Pré-processamento concluído.\")\n",
        "print(f\"[INFO] Total de amostras geradas: {len(X)}\")"
      ]
    },
    {
      "cell_type": "code",
      "execution_count": 36,
      "metadata": {},
      "outputs": [
        {
          "name": "stdout",
          "output_type": "stream",
          "text": [
            "[INFO] Normalizando os dados...\n",
            "[INFO] Normalização concluída.\n"
          ]
        }
      ],
      "source": [
        "# -------------------------------------------------------\n",
        "# 4. Normalização e Preparação dos Dados\n",
        "# -------------------------------------------------------\n",
        "print(\"[INFO] Normalizando os dados...\")\n",
        "X_np = np.nan_to_num(np.array(X), nan=0.0, posinf=0.0, neginf=0.0)\n",
        "y_np = np.nan_to_num(np.array(y), nan=0.0, posinf=0.0, neginf=0.0)\n",
        "\n",
        "scaler = MinMaxScaler()\n",
        "X_np_scaled = scaler.fit_transform(X_np)\n",
        "print(\"[INFO] Normalização concluída.\")"
      ]
    },
    {
      "cell_type": "code",
      "execution_count": 37,
      "metadata": {},
      "outputs": [
        {
          "name": "stdout",
          "output_type": "stream",
          "text": [
            "[INFO] Configurando o modelo...\n"
          ]
        }
      ],
      "source": [
        "# -------------------------------------------------------\n",
        "# 5. Configuração e Treinamento do Modelo\n",
        "# -------------------------------------------------------\n",
        "print(\"[INFO] Configurando o modelo...\")\n",
        "rf_model = RandomForestRegressor(random_state=42)\n",
        "multi_output_model = MultiOutputRegressor(\n",
        "    RandomizedSearchCV(\n",
        "        rf_model,\n",
        "        param_distributions={\n",
        "            'n_estimators': [300, 500, 800],\n",
        "            'max_depth': [20, 30, None],\n",
        "            'min_samples_split': [2, 10, 20],\n",
        "            'min_samples_leaf': [1, 2, 4],\n",
        "            'max_features': ['sqrt'],\n",
        "            'bootstrap': [True, False]\n",
        "        },\n",
        "        n_iter=50,\n",
        "        cv=TimeSeriesSplit(n_splits=5),\n",
        "        random_state=42,\n",
        "        n_jobs=-1\n",
        "    )\n",
        ")"
      ]
    },
    {
      "cell_type": "code",
      "execution_count": 38,
      "metadata": {},
      "outputs": [
        {
          "name": "stdout",
          "output_type": "stream",
          "text": [
            "[INFO] Treinando o modelo...\n",
            "[INFO] Treinamento concluído.\n"
          ]
        }
      ],
      "source": [
        "print(\"[INFO] Treinando o modelo...\")\n",
        "multi_output_model.fit(X_np_scaled, y_np)\n",
        "print(\"[INFO] Treinamento concluído.\")"
      ]
    },
    {
      "cell_type": "code",
      "execution_count": 39,
      "metadata": {},
      "outputs": [
        {
          "name": "stdout",
          "output_type": "stream",
          "text": [
            "Melhores parâmetros para a saída 1: {'n_estimators': 500, 'min_samples_split': 10, 'min_samples_leaf': 4, 'max_features': 'sqrt', 'max_depth': 20, 'bootstrap': True}\n",
            "Melhores parâmetros para a saída 2: {'n_estimators': 800, 'min_samples_split': 20, 'min_samples_leaf': 4, 'max_features': 'sqrt', 'max_depth': 20, 'bootstrap': True}\n",
            "Melhores parâmetros para a saída 3: {'n_estimators': 800, 'min_samples_split': 20, 'min_samples_leaf': 4, 'max_features': 'sqrt', 'max_depth': 20, 'bootstrap': True}\n",
            "Melhores parâmetros para a saída 4: {'n_estimators': 500, 'min_samples_split': 10, 'min_samples_leaf': 4, 'max_features': 'sqrt', 'max_depth': 20, 'bootstrap': True}\n"
          ]
        }
      ],
      "source": [
        "# Mostrar melhores parâmetros para cada saída\n",
        "best_params = []\n",
        "for i, estimator in enumerate(multi_output_model.estimators_):\n",
        "    best_params.append(estimator.best_params_)\n",
        "    print(f\"Melhores parâmetros para a saída {i + 1}: {estimator.best_params_}\")"
      ]
    },
    {
      "cell_type": "code",
      "execution_count": 40,
      "metadata": {},
      "outputs": [
        {
          "name": "stdout",
          "output_type": "stream",
          "text": [
            "[INFO] Tabela de melhores hiperparâmetros gerada.\n"
          ]
        }
      ],
      "source": [
        "# Tabela de Melhores Hiperparâmetros\n",
        "best_hyperparameters = pd.DataFrame(best_params)\n",
        "best_hyperparameters.insert(0, \"Output\", [\"Mean_1\", \"Stdev_1\", \"Mean_2\", \"Stdev_2\"])\n",
        "print(\"[INFO] Tabela de melhores hiperparâmetros gerada.\")"
      ]
    },
    {
      "cell_type": "code",
      "execution_count": 41,
      "metadata": {},
      "outputs": [],
      "source": [
        "# -------------------------------------------------------\n",
        "# 6. Função para Calcular Métricas\n",
        "# -------------------------------------------------------\n",
        "def calculate_metrics(y_true, y_pred, label=\"\"):\n",
        "    mse = mean_squared_error(y_true, y_pred)\n",
        "    mae = mean_absolute_error(y_true, y_pred)\n",
        "    mape = mean_absolute_percentage_error(y_true, y_pred)\n",
        "    print(f\"{label} Metrics:\")\n",
        "    print(f\"  MSE: {mse:.4f}\")\n",
        "    print(f\"  MAE: {mae:.4f}\")\n",
        "    print(f\"  MAPE: {mape:.4f}\")\n",
        "    return mse, mae, mape"
      ]
    },
    {
      "cell_type": "code",
      "execution_count": 43,
      "metadata": {},
      "outputs": [
        {
          "name": "stdout",
          "output_type": "stream",
          "text": [
            "[INFO] Avaliando o modelo no conjunto de treinamento...\n",
            "Treinamento Metrics:\n",
            "  MSE: 464192632.5997\n",
            "  MAE: 11459.4305\n",
            "  MAPE: 0.1462\n",
            "[INFO] Avaliando o baseline...\n",
            "Baseline Treinamento Metrics:\n",
            "  MSE: 1435472914.4105\n",
            "  MAE: 23453.6491\n",
            "  MAPE: 0.2255\n"
          ]
        }
      ],
      "source": [
        "# -------------------------------------------------------\n",
        "# 7. Avaliação do Modelo e Baseline\n",
        "# -------------------------------------------------------\n",
        "print(\"[INFO] Avaliando o modelo no conjunto de treinamento...\")\n",
        "train_predictions = multi_output_model.predict(X_np_scaled)\n",
        "train_predictions = np.nan_to_num(train_predictions, nan=0.0, posinf=0.0, neginf=0.0)\n",
        "\n",
        "train_mse, train_mae, train_mape = calculate_metrics(y_np, train_predictions, label=\"Treinamento\")\n",
        "\n",
        "print(\"[INFO] Avaliando o baseline...\")\n",
        "baseline_mean = np.mean(y_np, axis=0)\n",
        "baseline_predictions = np.tile(baseline_mean, (y_np.shape[0], 1))\n",
        "\n",
        "baseline_train_mse, baseline_train_mae, baseline_train_mape = calculate_metrics(\n",
        "    y_np, baseline_predictions, label=\"Baseline Treinamento\")"
      ]
    },
    {
      "cell_type": "code",
      "execution_count": 44,
      "metadata": {},
      "outputs": [
        {
          "name": "stdout",
          "output_type": "stream",
          "text": [
            "[INFO] Gerando previsões para o conjunto de teste...\n"
          ]
        }
      ],
      "source": [
        "# -------------------------------------------------------\n",
        "# 8. Submissão e Avaliação no Teste\n",
        "# -------------------------------------------------------\n",
        "print(\"[INFO] Gerando previsões para o conjunto de teste...\")\n",
        "Test_jsons = glob(\"./Test/*\")\n",
        "features = []\n",
        "submission = []\n",
        "\n",
        "for test in Test_jsons:\n",
        "    with open(test, 'r') as file:\n",
        "        data = json.load(file)\n",
        "    rates_mean = [np.mean(dash['rate']) for dash in data['dash'] if 'rate' in dash]\n",
        "    rates_std = [np.std(dash['rate']) for dash in data['dash'] if 'rate' in dash]\n",
        "\n",
        "    if not rates_mean or not rates_std:\n",
        "        rates_mean = [0] * 10\n",
        "        rates_std = [0] * 10\n",
        "\n",
        "    feat = [\n",
        "        clientes_servidores[data['cliente']],\n",
        "        clientes_servidores[data['servidor']],\n",
        "        np.mean(rates_mean),\n",
        "        np.std(rates_mean),\n",
        "        rates_mean[-1],\n",
        "        rates_std[-1],\n",
        "        np.std(rates_std) / (np.mean(rates_mean) + 1e-5),\n",
        "        rates_mean[-1] - rates_mean[-2] if len(rates_mean) > 1 else 0,\n",
        "        linregress(range(len(rates_mean)), rates_mean).slope if len(rates_mean) > 1 else 0\n",
        "    ]\n",
        "    features.append(feat)"
      ]
    },
    {
      "cell_type": "code",
      "execution_count": 45,
      "metadata": {},
      "outputs": [],
      "source": [
        "features_np = np.array(features)\n",
        "features_np_scaled = scaler.transform(features_np)"
      ]
    },
    {
      "cell_type": "code",
      "execution_count": 46,
      "metadata": {},
      "outputs": [],
      "source": [
        "# Previsões\n",
        "test_predictions = multi_output_model.predict(features_np_scaled)"
      ]
    },
    {
      "cell_type": "code",
      "execution_count": 47,
      "metadata": {},
      "outputs": [
        {
          "name": "stdout",
          "output_type": "stream",
          "text": [
            "Teste Metrics:\n",
            "  MSE: 1673557648.2981\n",
            "  MAE: 26610.8768\n",
            "  MAPE: 0.2725\n"
          ]
        }
      ],
      "source": [
        "# Calcular métricas\n",
        "test_mse, test_mae, test_mape = calculate_metrics(y_np[-len(test_predictions):], test_predictions, label=\"Teste\")"
      ]
    },
    {
      "cell_type": "code",
      "execution_count": 48,
      "metadata": {},
      "outputs": [
        {
          "name": "stdout",
          "output_type": "stream",
          "text": [
            "Baseline Teste Metrics:\n",
            "  MSE: 1424502412.4713\n",
            "  MAE: 23946.2735\n",
            "  MAPE: 0.2629\n"
          ]
        }
      ],
      "source": [
        "# Comparação com baseline no conjunto de teste\n",
        "baseline_test_predictions = np.tile(baseline_mean, (features_np_scaled.shape[0], 1))\n",
        "baseline_test_mse, baseline_test_mae, baseline_test_mape = calculate_metrics(\n",
        "    y_np[-len(test_predictions):], baseline_test_predictions, label=\"Baseline Teste\"\n",
        ")"
      ]
    },
    {
      "cell_type": "code",
      "execution_count": 49,
      "metadata": {},
      "outputs": [
        {
          "name": "stdout",
          "output_type": "stream",
          "text": [
            "[INFO] Arquivo de submissão criado com sucesso!\n"
          ]
        }
      ],
      "source": [
        "# Criar CSV\n",
        "header = [\"id\", \"mean_1\", \"stdev_1\", \"mean_2\", \"stdev_2\"]\n",
        "with open(\"submission.csv\", mode=\"w\", newline=\"\", encoding=\"utf-8\") as file:\n",
        "    writer = csv.writer(file)\n",
        "    writer.writerow(header)\n",
        "    for i, pred in enumerate(test_predictions):\n",
        "        writer.writerow([os.path.splitext(os.path.basename(Test_jsons[i]))[0], *pred])\n",
        "\n",
        "print(\"[INFO] Arquivo de submissão criado com sucesso!\")"
      ]
    },
    {
      "cell_type": "code",
      "execution_count": 50,
      "metadata": {},
      "outputs": [],
      "source": [
        "# -------------------------------------------------------\n",
        "# 9. Gerar Relatório de Métricas\n",
        "# -------------------------------------------------------\n",
        "metrics_data = {\n",
        "    \"Dataset\": [\"Treinamento\", \"Treinamento\", \"Teste\", \"Teste\"],\n",
        "    \"Modelo\": [\"Random Forest\", \"Baseline\", \"Random Forest\", \"Baseline\"],\n",
        "    \"MSE\": [train_mse, baseline_train_mse, test_mse, baseline_test_mse],\n",
        "    \"MAE\": [train_mae, baseline_train_mae, test_mae, baseline_test_mae],\n",
        "    \"MAPE\": [train_mape, baseline_train_mape, test_mape, baseline_test_mape],\n",
        "}"
      ]
    },
    {
      "cell_type": "code",
      "execution_count": 51,
      "metadata": {},
      "outputs": [],
      "source": [
        "metrics_df = pd.DataFrame(metrics_data)\n",
        "metrics_df.to_csv(\"metrics_report.csv\", index=False, encoding=\"utf-8\")"
      ]
    },
    {
      "cell_type": "code",
      "execution_count": 52,
      "metadata": {},
      "outputs": [
        {
          "name": "stdout",
          "output_type": "stream",
          "text": [
            "[INFO] Gerando tabelas e gráficos adicionais...\n"
          ]
        }
      ],
      "source": [
        "# -------------------------------------------------------\n",
        "# 10. Visualização de Métricas\n",
        "# -------------------------------------------------------\n",
        "print(\"[INFO] Gerando tabelas e gráficos adicionais...\")"
      ]
    },
    {
      "cell_type": "code",
      "execution_count": 53,
      "metadata": {},
      "outputs": [],
      "source": [
        "# Tabela de Features Calculadas\n",
        "features_calculated = pd.DataFrame({\n",
        "    \"Feature\": [\n",
        "        \"rate_mean\", \"rate_std\", \"delta_mean\", \"slope_mean\", \"cliente_servidor\"\n",
        "    ],\n",
        "    \"Description\": [\n",
        "        \"Média das taxas nos últimos 10 intervalos\",\n",
        "        \"Desvio padrão das taxas nos últimos 10 intervalos\",\n",
        "        \"Diferença entre as últimas duas médias\",\n",
        "        \"Inclinação da regressão linear nos últimos 10 intervalos\",\n",
        "        \"Cliente e servidor identificados numericamente\"\n",
        "    ],\n",
        "    \"Justification\": [\n",
        "        \"Captura a tendência geral do desempenho\",\n",
        "        \"Mede a variação na estabilidade\",\n",
        "        \"Captura mudanças recentes\",\n",
        "        \"Representa a tendência temporal\",\n",
        "        \"Relaciona clientes e servidores às suas métricas\"\n",
        "    ]\n",
        "})\n",
        "features_calculated.to_csv(\"features_calculated.csv\", index=False)\n"
      ]
    },
    {
      "cell_type": "code",
      "execution_count": 54,
      "metadata": {},
      "outputs": [],
      "source": [
        "# Exportar tabela de melhores hiperparâmetros\n",
        "best_hyperparameters.to_csv(\"best_hyperparameters.csv\", index=False)"
      ]
    },
    {
      "cell_type": "code",
      "execution_count": 56,
      "metadata": {},
      "outputs": [
        {
          "data": {
            "image/png": "[encoded data removed]",
            "text/plain": [
              "<Figure size 1000x600 with 1 Axes>"
            ]
          },
          "metadata": {},
          "output_type": "display_data"
        }
      ],
      "source": [
        "\n",
        "# Gráfico de comparação de MSE\n",
        "plt.figure(figsize=(10, 6))\n",
        "sns.barplot(data=metrics_df, x=\"Dataset\", y=\"MSE\", hue=\"Modelo\")\n",
        "plt.title(\"Comparação de MSE entre Modelos e Datasets\")\n",
        "plt.ylabel(\"Mean Squared Error (MSE)\")\n",
        "plt.xlabel(\"Conjunto de Dados\")\n",
        "plt.legend(title=\"Modelo\")\n",
        "plt.tight_layout()\n",
        "plt.savefig(\"mse_comparison.png\")\n",
        "plt.show()"
      ]
    },
    {
      "cell_type": "code",
      "execution_count": 57,
      "metadata": {},
      "outputs": [
        {
          "data": {
            "image/png": "[encoded data removed]",
            "text/plain": [
              "<Figure size 1000x600 with 1 Axes>"
            ]
          },
          "metadata": {},
          "output_type": "display_data"
        }
      ],
      "source": [
        "# Gráfico de comparação de MAE\n",
        "plt.figure(figsize=(10, 6))\n",
        "sns.barplot(data=metrics_df, x=\"Dataset\", y=\"MAE\", hue=\"Modelo\")\n",
        "plt.title(\"Comparação de MAE entre Modelos e Datasets\")\n",
        "plt.ylabel(\"Mean Absolute Error (MAE)\")\n",
        "plt.xlabel(\"Conjunto de Dados\")\n",
        "plt.legend(title=\"Modelo\")\n",
        "plt.tight_layout()\n",
        "plt.savefig(\"mae_comparison.png\")\n",
        "plt.show()"
      ]
    },
    {
      "cell_type": "code",
      "execution_count": 58,
      "metadata": {},
      "outputs": [
        {
          "data": {
            "image/png": "[encoded data removed]",
            "text/plain": [
              "<Figure size 1000x600 with 1 Axes>"
            ]
          },
          "metadata": {},
          "output_type": "display_data"
        }
      ],
      "source": [
        "# Gráfico de comparação de MAPE\n",
        "plt.figure(figsize=(10, 6))\n",
        "sns.barplot(data=metrics_df, x=\"Dataset\", y=\"MAPE\", hue=\"Modelo\")\n",
        "plt.title(\"Comparação de MAPE entre Modelos e Datasets\")\n",
        "plt.ylabel(\"Mean Absolute Percentage Error (MAPE)\")\n",
        "plt.xlabel(\"Conjunto de Dados\")\n",
        "plt.legend(title=\"Modelo\")\n",
        "plt.tight_layout()\n",
        "plt.savefig(\"mape_comparison.png\")\n",
        "plt.show()"
      ]
    }
  ],
  "metadata": {
    "colab": {
      "collapsed_sections": [
        "tXgwUU8MZOgl",
        "6FuCc4ugZn3y",
        "0-Wuj9WGZwcb"
      ],
      "provenance": []
    },
    "kernelspec": {
      "display_name": "base",
      "language": "python",
      "name": "python3"
    },
    "language_info": {
      "codemirror_mode": {
        "name": "ipython",
        "version": 3
      },
      "file_extension": ".py",
      "mimetype": "text/x-python",
      "name": "python",
      "nbconvert_exporter": "python",
      "pygments_lexer": "ipython3",
      "version": "3.11.7"
    }
  },
  "nbformat": 4,
  "nbformat_minor": 0
}
